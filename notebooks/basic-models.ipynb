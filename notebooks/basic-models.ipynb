{
 "cells": [
  {
   "cell_type": "markdown",
   "id": "a6d0b585",
   "metadata": {
    "id": "a6d0b585"
   },
   "source": [
    "# Basic Model Analysis\n",
    "\n",
    "1. Fetch pre-processed data\n",
    "2. Train Model\n",
    "3. Compare Basic Models Performance"
   ]
  },
  {
   "cell_type": "code",
   "execution_count": 1,
   "id": "c36ec82a",
   "metadata": {
    "executionInfo": {
     "elapsed": 2188,
     "status": "ok",
     "timestamp": 1661544243896,
     "user": {
      "displayName": "Digital marketing Gym",
      "userId": "02892463931383007693"
     },
     "user_tz": -60
    },
    "id": "c36ec82a"
   },
   "outputs": [],
   "source": [
    "import csv\n",
    "import numpy as np\n",
    "import pandas as pd\n",
    "import matplotlib.pyplot as plt\n",
    "import pandas_profiling \n",
    "from sklearn.pipeline import Pipeline\n",
    "from sklearn.compose import ColumnTransformer\n",
    "\n",
    "#sklearn Libraries\n",
    "from sklearn.preprocessing import LabelEncoder, StandardScaler, MinMaxScaler\n",
    "from sklearn.linear_model import Lasso,LinearRegression,Ridge\n",
    "from sklearn.ensemble import RandomForestRegressor,AdaBoostRegressor\n",
    "from sklearn.metrics import mean_squared_error,mean_absolute_error,r2_score, confusion_matrix\n",
    "from sklearn.model_selection import train_test_split,GridSearchCV,cross_val_score,cross_val_predict\n",
    "\n",
    "\n",
    "import warnings\n",
    "warnings.filterwarnings(action = 'ignore')\n",
    "\n",
    "# Libraries for ploting charts\n",
    "import plotly.express as px\n",
    "import matplotlib.pyplot as plt\n",
    "import seaborn as sb\n",
    "import plotly.graph_objects as go\n",
    "\n",
    "%matplotlib notebook\n",
    "%matplotlib inline"
   ]
  },
  {
   "cell_type": "code",
   "execution_count": 2,
   "id": "k58-HxeSRWWX",
   "metadata": {
    "colab": {
     "base_uri": "https://localhost:8080/"
    },
    "executionInfo": {
     "elapsed": 17514,
     "status": "ok",
     "timestamp": 1661544261404,
     "user": {
      "displayName": "Digital marketing Gym",
      "userId": "02892463931383007693"
     },
     "user_tz": -60
    },
    "id": "k58-HxeSRWWX",
    "outputId": "4c05037e-5875-46b8-8d49-853a9416b986"
   },
   "outputs": [],
   "source": [
    "#from google.colab import drive\n",
    "#drive.mount('/content/drive')"
   ]
  },
  {
   "cell_type": "markdown",
   "id": "2e0756e0",
   "metadata": {
    "id": "2e0756e0"
   },
   "source": [
    "**1. Fetch pre-processed data**"
   ]
  },
  {
   "cell_type": "code",
   "execution_count": 3,
   "id": "03adb532",
   "metadata": {
    "executionInfo": {
     "elapsed": 827,
     "status": "ok",
     "timestamp": 1661544262219,
     "user": {
      "displayName": "Digital marketing Gym",
      "userId": "02892463931383007693"
     },
     "user_tz": -60
    },
    "id": "03adb532",
    "scrolled": true
   },
   "outputs": [],
   "source": [
    "data = pd.DataFrame()\n",
    "\n",
    "data = pd.read_csv('../datasets/data-preprocessed.csv', low_memory=False)"
   ]
  },
  {
   "cell_type": "code",
   "execution_count": 4,
   "id": "6BXPhsNRCqs8",
   "metadata": {
    "colab": {
     "base_uri": "https://localhost:8080/",
     "height": 488
    },
    "executionInfo": {
     "elapsed": 51,
     "status": "ok",
     "timestamp": 1661544262221,
     "user": {
      "displayName": "Digital marketing Gym",
      "userId": "02892463931383007693"
     },
     "user_tz": -60
    },
    "id": "6BXPhsNRCqs8",
    "outputId": "275a2414-fed0-4ab7-bcb1-ffe1c1877d2e"
   },
   "outputs": [
    {
     "data": {
      "text/html": [
       "<div>\n",
       "<style scoped>\n",
       "    .dataframe tbody tr th:only-of-type {\n",
       "        vertical-align: middle;\n",
       "    }\n",
       "\n",
       "    .dataframe tbody tr th {\n",
       "        vertical-align: top;\n",
       "    }\n",
       "\n",
       "    .dataframe thead th {\n",
       "        text-align: right;\n",
       "    }\n",
       "</style>\n",
       "<table border=\"1\" class=\"dataframe\">\n",
       "  <thead>\n",
       "    <tr style=\"text-align: right;\">\n",
       "      <th></th>\n",
       "      <th>model</th>\n",
       "      <th>generation</th>\n",
       "      <th>series</th>\n",
       "      <th>body_type</th>\n",
       "      <th>number_of_seats</th>\n",
       "      <th>curb_weight_kg</th>\n",
       "      <th>max_trunk_capacity_l</th>\n",
       "      <th>number_of_cylinders</th>\n",
       "      <th>engine_type</th>\n",
       "      <th>valves_per_cylinder</th>\n",
       "      <th>capacity_cm3</th>\n",
       "      <th>engine_hp</th>\n",
       "      <th>drive_wheels</th>\n",
       "      <th>number_of_gears</th>\n",
       "      <th>transmission</th>\n",
       "      <th>fuel_tank_capacity_l</th>\n",
       "      <th>max_speed_km_per_h</th>\n",
       "      <th>city_fuel_per_100km_l</th>\n",
       "      <th>fuel_grade</th>\n",
       "      <th>rear_brakes</th>\n",
       "    </tr>\n",
       "  </thead>\n",
       "  <tbody>\n",
       "    <tr>\n",
       "      <th>0</th>\n",
       "      <td>0.000000</td>\n",
       "      <td>0.000876</td>\n",
       "      <td>0.000000</td>\n",
       "      <td>0.066667</td>\n",
       "      <td>0.034483</td>\n",
       "      <td>0.000671</td>\n",
       "      <td>0.000947</td>\n",
       "      <td>0.111111</td>\n",
       "      <td>0.111111</td>\n",
       "      <td>0.166667</td>\n",
       "      <td>0.001149</td>\n",
       "      <td>0.002160</td>\n",
       "      <td>0.166667</td>\n",
       "      <td>0.1</td>\n",
       "      <td>0.166667</td>\n",
       "      <td>0.007353</td>\n",
       "      <td>0.004167</td>\n",
       "      <td>0.003636</td>\n",
       "      <td>0.045455</td>\n",
       "      <td>0.090909</td>\n",
       "    </tr>\n",
       "    <tr>\n",
       "      <th>1</th>\n",
       "      <td>0.000000</td>\n",
       "      <td>0.000876</td>\n",
       "      <td>0.000000</td>\n",
       "      <td>0.066667</td>\n",
       "      <td>0.034483</td>\n",
       "      <td>0.000671</td>\n",
       "      <td>0.000947</td>\n",
       "      <td>0.111111</td>\n",
       "      <td>0.111111</td>\n",
       "      <td>0.166667</td>\n",
       "      <td>0.001149</td>\n",
       "      <td>0.002160</td>\n",
       "      <td>0.166667</td>\n",
       "      <td>0.2</td>\n",
       "      <td>0.333333</td>\n",
       "      <td>0.007353</td>\n",
       "      <td>0.008333</td>\n",
       "      <td>0.007273</td>\n",
       "      <td>0.045455</td>\n",
       "      <td>0.090909</td>\n",
       "    </tr>\n",
       "    <tr>\n",
       "      <th>2</th>\n",
       "      <td>0.000000</td>\n",
       "      <td>0.000876</td>\n",
       "      <td>0.000000</td>\n",
       "      <td>0.066667</td>\n",
       "      <td>0.034483</td>\n",
       "      <td>0.000671</td>\n",
       "      <td>0.000947</td>\n",
       "      <td>0.111111</td>\n",
       "      <td>0.111111</td>\n",
       "      <td>0.166667</td>\n",
       "      <td>0.002299</td>\n",
       "      <td>0.004320</td>\n",
       "      <td>0.166667</td>\n",
       "      <td>0.1</td>\n",
       "      <td>0.166667</td>\n",
       "      <td>0.007353</td>\n",
       "      <td>0.004167</td>\n",
       "      <td>0.003636</td>\n",
       "      <td>0.045455</td>\n",
       "      <td>0.090909</td>\n",
       "    </tr>\n",
       "    <tr>\n",
       "      <th>3</th>\n",
       "      <td>0.000000</td>\n",
       "      <td>0.000876</td>\n",
       "      <td>0.000000</td>\n",
       "      <td>0.066667</td>\n",
       "      <td>0.034483</td>\n",
       "      <td>0.000671</td>\n",
       "      <td>0.000947</td>\n",
       "      <td>0.111111</td>\n",
       "      <td>0.111111</td>\n",
       "      <td>0.166667</td>\n",
       "      <td>0.002299</td>\n",
       "      <td>0.004320</td>\n",
       "      <td>0.166667</td>\n",
       "      <td>0.2</td>\n",
       "      <td>0.333333</td>\n",
       "      <td>0.007353</td>\n",
       "      <td>0.008333</td>\n",
       "      <td>0.007273</td>\n",
       "      <td>0.045455</td>\n",
       "      <td>0.090909</td>\n",
       "    </tr>\n",
       "    <tr>\n",
       "      <th>4</th>\n",
       "      <td>0.000000</td>\n",
       "      <td>0.000876</td>\n",
       "      <td>0.000000</td>\n",
       "      <td>0.066667</td>\n",
       "      <td>0.034483</td>\n",
       "      <td>0.001342</td>\n",
       "      <td>0.000947</td>\n",
       "      <td>0.222222</td>\n",
       "      <td>0.111111</td>\n",
       "      <td>0.166667</td>\n",
       "      <td>0.003448</td>\n",
       "      <td>0.006479</td>\n",
       "      <td>0.166667</td>\n",
       "      <td>0.1</td>\n",
       "      <td>0.166667</td>\n",
       "      <td>0.007353</td>\n",
       "      <td>0.000000</td>\n",
       "      <td>0.003636</td>\n",
       "      <td>0.090909</td>\n",
       "      <td>0.090909</td>\n",
       "    </tr>\n",
       "    <tr>\n",
       "      <th>...</th>\n",
       "      <td>...</td>\n",
       "      <td>...</td>\n",
       "      <td>...</td>\n",
       "      <td>...</td>\n",
       "      <td>...</td>\n",
       "      <td>...</td>\n",
       "      <td>...</td>\n",
       "      <td>...</td>\n",
       "      <td>...</td>\n",
       "      <td>...</td>\n",
       "      <td>...</td>\n",
       "      <td>...</td>\n",
       "      <td>...</td>\n",
       "      <td>...</td>\n",
       "      <td>...</td>\n",
       "      <td>...</td>\n",
       "      <td>...</td>\n",
       "      <td>...</td>\n",
       "      <td>...</td>\n",
       "      <td>...</td>\n",
       "    </tr>\n",
       "    <tr>\n",
       "      <th>43042</th>\n",
       "      <td>0.998943</td>\n",
       "      <td>0.000876</td>\n",
       "      <td>0.003891</td>\n",
       "      <td>0.200000</td>\n",
       "      <td>0.034483</td>\n",
       "      <td>0.414765</td>\n",
       "      <td>0.720644</td>\n",
       "      <td>0.111111</td>\n",
       "      <td>0.111111</td>\n",
       "      <td>0.333333</td>\n",
       "      <td>0.411494</td>\n",
       "      <td>0.838013</td>\n",
       "      <td>0.166667</td>\n",
       "      <td>0.2</td>\n",
       "      <td>0.333333</td>\n",
       "      <td>0.514706</td>\n",
       "      <td>0.504167</td>\n",
       "      <td>0.000000</td>\n",
       "      <td>0.136364</td>\n",
       "      <td>0.181818</td>\n",
       "    </tr>\n",
       "    <tr>\n",
       "      <th>43043</th>\n",
       "      <td>0.998943</td>\n",
       "      <td>0.000876</td>\n",
       "      <td>0.003891</td>\n",
       "      <td>0.200000</td>\n",
       "      <td>0.034483</td>\n",
       "      <td>0.077181</td>\n",
       "      <td>0.002841</td>\n",
       "      <td>0.111111</td>\n",
       "      <td>0.111111</td>\n",
       "      <td>0.333333</td>\n",
       "      <td>1.000000</td>\n",
       "      <td>0.196544</td>\n",
       "      <td>0.166667</td>\n",
       "      <td>0.2</td>\n",
       "      <td>0.333333</td>\n",
       "      <td>0.161765</td>\n",
       "      <td>0.304167</td>\n",
       "      <td>0.000000</td>\n",
       "      <td>0.136364</td>\n",
       "      <td>0.181818</td>\n",
       "    </tr>\n",
       "    <tr>\n",
       "      <th>43044</th>\n",
       "      <td>0.998943</td>\n",
       "      <td>0.000876</td>\n",
       "      <td>0.003891</td>\n",
       "      <td>0.200000</td>\n",
       "      <td>0.034483</td>\n",
       "      <td>0.414765</td>\n",
       "      <td>0.720644</td>\n",
       "      <td>0.111111</td>\n",
       "      <td>0.111111</td>\n",
       "      <td>0.333333</td>\n",
       "      <td>0.405747</td>\n",
       "      <td>0.663067</td>\n",
       "      <td>0.166667</td>\n",
       "      <td>0.2</td>\n",
       "      <td>0.333333</td>\n",
       "      <td>0.514706</td>\n",
       "      <td>0.504167</td>\n",
       "      <td>0.000000</td>\n",
       "      <td>0.136364</td>\n",
       "      <td>0.181818</td>\n",
       "    </tr>\n",
       "    <tr>\n",
       "      <th>43045</th>\n",
       "      <td>1.000000</td>\n",
       "      <td>0.000876</td>\n",
       "      <td>0.003891</td>\n",
       "      <td>0.200000</td>\n",
       "      <td>0.034483</td>\n",
       "      <td>0.414765</td>\n",
       "      <td>0.558712</td>\n",
       "      <td>0.111111</td>\n",
       "      <td>0.111111</td>\n",
       "      <td>0.333333</td>\n",
       "      <td>0.411494</td>\n",
       "      <td>0.313175</td>\n",
       "      <td>0.166667</td>\n",
       "      <td>0.2</td>\n",
       "      <td>0.333333</td>\n",
       "      <td>0.558824</td>\n",
       "      <td>0.758333</td>\n",
       "      <td>0.000000</td>\n",
       "      <td>0.136364</td>\n",
       "      <td>0.181818</td>\n",
       "    </tr>\n",
       "    <tr>\n",
       "      <th>43046</th>\n",
       "      <td>1.000000</td>\n",
       "      <td>0.000876</td>\n",
       "      <td>0.003891</td>\n",
       "      <td>0.200000</td>\n",
       "      <td>0.034483</td>\n",
       "      <td>0.077181</td>\n",
       "      <td>0.558712</td>\n",
       "      <td>0.111111</td>\n",
       "      <td>0.111111</td>\n",
       "      <td>0.333333</td>\n",
       "      <td>1.000000</td>\n",
       "      <td>0.196544</td>\n",
       "      <td>0.166667</td>\n",
       "      <td>0.2</td>\n",
       "      <td>0.333333</td>\n",
       "      <td>0.558824</td>\n",
       "      <td>0.550000</td>\n",
       "      <td>0.000000</td>\n",
       "      <td>0.136364</td>\n",
       "      <td>0.181818</td>\n",
       "    </tr>\n",
       "  </tbody>\n",
       "</table>\n",
       "<p>43047 rows × 20 columns</p>\n",
       "</div>"
      ],
      "text/plain": [
       "          model  generation    series  body_type  number_of_seats  \\\n",
       "0      0.000000    0.000876  0.000000   0.066667         0.034483   \n",
       "1      0.000000    0.000876  0.000000   0.066667         0.034483   \n",
       "2      0.000000    0.000876  0.000000   0.066667         0.034483   \n",
       "3      0.000000    0.000876  0.000000   0.066667         0.034483   \n",
       "4      0.000000    0.000876  0.000000   0.066667         0.034483   \n",
       "...         ...         ...       ...        ...              ...   \n",
       "43042  0.998943    0.000876  0.003891   0.200000         0.034483   \n",
       "43043  0.998943    0.000876  0.003891   0.200000         0.034483   \n",
       "43044  0.998943    0.000876  0.003891   0.200000         0.034483   \n",
       "43045  1.000000    0.000876  0.003891   0.200000         0.034483   \n",
       "43046  1.000000    0.000876  0.003891   0.200000         0.034483   \n",
       "\n",
       "       curb_weight_kg  max_trunk_capacity_l  number_of_cylinders  engine_type  \\\n",
       "0            0.000671              0.000947             0.111111     0.111111   \n",
       "1            0.000671              0.000947             0.111111     0.111111   \n",
       "2            0.000671              0.000947             0.111111     0.111111   \n",
       "3            0.000671              0.000947             0.111111     0.111111   \n",
       "4            0.001342              0.000947             0.222222     0.111111   \n",
       "...               ...                   ...                  ...          ...   \n",
       "43042        0.414765              0.720644             0.111111     0.111111   \n",
       "43043        0.077181              0.002841             0.111111     0.111111   \n",
       "43044        0.414765              0.720644             0.111111     0.111111   \n",
       "43045        0.414765              0.558712             0.111111     0.111111   \n",
       "43046        0.077181              0.558712             0.111111     0.111111   \n",
       "\n",
       "       valves_per_cylinder  capacity_cm3  engine_hp  drive_wheels  \\\n",
       "0                 0.166667      0.001149   0.002160      0.166667   \n",
       "1                 0.166667      0.001149   0.002160      0.166667   \n",
       "2                 0.166667      0.002299   0.004320      0.166667   \n",
       "3                 0.166667      0.002299   0.004320      0.166667   \n",
       "4                 0.166667      0.003448   0.006479      0.166667   \n",
       "...                    ...           ...        ...           ...   \n",
       "43042             0.333333      0.411494   0.838013      0.166667   \n",
       "43043             0.333333      1.000000   0.196544      0.166667   \n",
       "43044             0.333333      0.405747   0.663067      0.166667   \n",
       "43045             0.333333      0.411494   0.313175      0.166667   \n",
       "43046             0.333333      1.000000   0.196544      0.166667   \n",
       "\n",
       "       number_of_gears  transmission  fuel_tank_capacity_l  \\\n",
       "0                  0.1      0.166667              0.007353   \n",
       "1                  0.2      0.333333              0.007353   \n",
       "2                  0.1      0.166667              0.007353   \n",
       "3                  0.2      0.333333              0.007353   \n",
       "4                  0.1      0.166667              0.007353   \n",
       "...                ...           ...                   ...   \n",
       "43042              0.2      0.333333              0.514706   \n",
       "43043              0.2      0.333333              0.161765   \n",
       "43044              0.2      0.333333              0.514706   \n",
       "43045              0.2      0.333333              0.558824   \n",
       "43046              0.2      0.333333              0.558824   \n",
       "\n",
       "       max_speed_km_per_h  city_fuel_per_100km_l  fuel_grade  rear_brakes  \n",
       "0                0.004167               0.003636    0.045455     0.090909  \n",
       "1                0.008333               0.007273    0.045455     0.090909  \n",
       "2                0.004167               0.003636    0.045455     0.090909  \n",
       "3                0.008333               0.007273    0.045455     0.090909  \n",
       "4                0.000000               0.003636    0.090909     0.090909  \n",
       "...                   ...                    ...         ...          ...  \n",
       "43042            0.504167               0.000000    0.136364     0.181818  \n",
       "43043            0.304167               0.000000    0.136364     0.181818  \n",
       "43044            0.504167               0.000000    0.136364     0.181818  \n",
       "43045            0.758333               0.000000    0.136364     0.181818  \n",
       "43046            0.550000               0.000000    0.136364     0.181818  \n",
       "\n",
       "[43047 rows x 20 columns]"
      ]
     },
     "execution_count": 4,
     "metadata": {},
     "output_type": "execute_result"
    }
   ],
   "source": [
    "x = data.iloc[:,:len(data.columns)-1]\n",
    "y = data['total']\n",
    "x"
   ]
  },
  {
   "cell_type": "markdown",
   "id": "c17dd849",
   "metadata": {
    "id": "c17dd849"
   },
   "source": [
    "**2. Train Model**"
   ]
  },
  {
   "cell_type": "code",
   "execution_count": 5,
   "id": "d8f07bbf-3bdc-4399-91c2-15f074d4fac3",
   "metadata": {
    "colab": {
     "base_uri": "https://localhost:8080/",
     "height": 270
    },
    "executionInfo": {
     "elapsed": 46,
     "status": "ok",
     "timestamp": 1661544262223,
     "user": {
      "displayName": "Digital marketing Gym",
      "userId": "02892463931383007693"
     },
     "user_tz": -60
    },
    "id": "d8f07bbf-3bdc-4399-91c2-15f074d4fac3",
    "outputId": "dd4154c1-5200-4af7-ad1c-39957ad6199e"
   },
   "outputs": [
    {
     "data": {
      "text/html": [
       "<div>\n",
       "<style scoped>\n",
       "    .dataframe tbody tr th:only-of-type {\n",
       "        vertical-align: middle;\n",
       "    }\n",
       "\n",
       "    .dataframe tbody tr th {\n",
       "        vertical-align: top;\n",
       "    }\n",
       "\n",
       "    .dataframe thead th {\n",
       "        text-align: right;\n",
       "    }\n",
       "</style>\n",
       "<table border=\"1\" class=\"dataframe\">\n",
       "  <thead>\n",
       "    <tr style=\"text-align: right;\">\n",
       "      <th></th>\n",
       "      <th>model</th>\n",
       "      <th>generation</th>\n",
       "      <th>series</th>\n",
       "      <th>body_type</th>\n",
       "      <th>number_of_seats</th>\n",
       "      <th>curb_weight_kg</th>\n",
       "      <th>max_trunk_capacity_l</th>\n",
       "      <th>number_of_cylinders</th>\n",
       "      <th>engine_type</th>\n",
       "      <th>valves_per_cylinder</th>\n",
       "      <th>capacity_cm3</th>\n",
       "      <th>engine_hp</th>\n",
       "      <th>drive_wheels</th>\n",
       "      <th>number_of_gears</th>\n",
       "      <th>transmission</th>\n",
       "      <th>fuel_tank_capacity_l</th>\n",
       "      <th>max_speed_km_per_h</th>\n",
       "      <th>city_fuel_per_100km_l</th>\n",
       "      <th>fuel_grade</th>\n",
       "      <th>rear_brakes</th>\n",
       "    </tr>\n",
       "  </thead>\n",
       "  <tbody>\n",
       "    <tr>\n",
       "      <th>0</th>\n",
       "      <td>-1.736461</td>\n",
       "      <td>-0.81269</td>\n",
       "      <td>-0.558153</td>\n",
       "      <td>-0.719304</td>\n",
       "      <td>-0.295201</td>\n",
       "      <td>-0.735018</td>\n",
       "      <td>-0.796007</td>\n",
       "      <td>-0.271018</td>\n",
       "      <td>-0.303754</td>\n",
       "      <td>-0.241637</td>\n",
       "      <td>-0.950450</td>\n",
       "      <td>-0.916182</td>\n",
       "      <td>-0.45353</td>\n",
       "      <td>-0.673058</td>\n",
       "      <td>-0.618702</td>\n",
       "      <td>-0.853188</td>\n",
       "      <td>-0.771596</td>\n",
       "      <td>-0.798583</td>\n",
       "      <td>-0.903041</td>\n",
       "      <td>-0.409875</td>\n",
       "    </tr>\n",
       "    <tr>\n",
       "      <th>1</th>\n",
       "      <td>-1.736461</td>\n",
       "      <td>-0.81269</td>\n",
       "      <td>-0.558153</td>\n",
       "      <td>-0.719304</td>\n",
       "      <td>-0.295201</td>\n",
       "      <td>-0.735018</td>\n",
       "      <td>-0.796007</td>\n",
       "      <td>-0.271018</td>\n",
       "      <td>-0.303754</td>\n",
       "      <td>-0.241637</td>\n",
       "      <td>-0.950450</td>\n",
       "      <td>-0.916182</td>\n",
       "      <td>-0.45353</td>\n",
       "      <td>-0.035066</td>\n",
       "      <td>0.504070</td>\n",
       "      <td>-0.853188</td>\n",
       "      <td>-0.750229</td>\n",
       "      <td>-0.779333</td>\n",
       "      <td>-0.903041</td>\n",
       "      <td>-0.409875</td>\n",
       "    </tr>\n",
       "    <tr>\n",
       "      <th>2</th>\n",
       "      <td>-1.736461</td>\n",
       "      <td>-0.81269</td>\n",
       "      <td>-0.558153</td>\n",
       "      <td>-0.719304</td>\n",
       "      <td>-0.295201</td>\n",
       "      <td>-0.735018</td>\n",
       "      <td>-0.796007</td>\n",
       "      <td>-0.271018</td>\n",
       "      <td>-0.303754</td>\n",
       "      <td>-0.241637</td>\n",
       "      <td>-0.946013</td>\n",
       "      <td>-0.905410</td>\n",
       "      <td>-0.45353</td>\n",
       "      <td>-0.673058</td>\n",
       "      <td>-0.618702</td>\n",
       "      <td>-0.853188</td>\n",
       "      <td>-0.771596</td>\n",
       "      <td>-0.798583</td>\n",
       "      <td>-0.903041</td>\n",
       "      <td>-0.409875</td>\n",
       "    </tr>\n",
       "    <tr>\n",
       "      <th>3</th>\n",
       "      <td>-1.736461</td>\n",
       "      <td>-0.81269</td>\n",
       "      <td>-0.558153</td>\n",
       "      <td>-0.719304</td>\n",
       "      <td>-0.295201</td>\n",
       "      <td>-0.735018</td>\n",
       "      <td>-0.796007</td>\n",
       "      <td>-0.271018</td>\n",
       "      <td>-0.303754</td>\n",
       "      <td>-0.241637</td>\n",
       "      <td>-0.946013</td>\n",
       "      <td>-0.905410</td>\n",
       "      <td>-0.45353</td>\n",
       "      <td>-0.035066</td>\n",
       "      <td>0.504070</td>\n",
       "      <td>-0.853188</td>\n",
       "      <td>-0.750229</td>\n",
       "      <td>-0.779333</td>\n",
       "      <td>-0.903041</td>\n",
       "      <td>-0.409875</td>\n",
       "    </tr>\n",
       "    <tr>\n",
       "      <th>4</th>\n",
       "      <td>-1.736461</td>\n",
       "      <td>-0.81269</td>\n",
       "      <td>-0.558153</td>\n",
       "      <td>-0.719304</td>\n",
       "      <td>-0.295201</td>\n",
       "      <td>-0.731931</td>\n",
       "      <td>-0.796007</td>\n",
       "      <td>0.475496</td>\n",
       "      <td>-0.303754</td>\n",
       "      <td>-0.241637</td>\n",
       "      <td>-0.941576</td>\n",
       "      <td>-0.894638</td>\n",
       "      <td>-0.45353</td>\n",
       "      <td>-0.673058</td>\n",
       "      <td>-0.618702</td>\n",
       "      <td>-0.853188</td>\n",
       "      <td>-0.792963</td>\n",
       "      <td>-0.798583</td>\n",
       "      <td>-0.421997</td>\n",
       "      <td>-0.409875</td>\n",
       "    </tr>\n",
       "  </tbody>\n",
       "</table>\n",
       "</div>"
      ],
      "text/plain": [
       "      model  generation    series  body_type  number_of_seats  curb_weight_kg  \\\n",
       "0 -1.736461    -0.81269 -0.558153  -0.719304        -0.295201       -0.735018   \n",
       "1 -1.736461    -0.81269 -0.558153  -0.719304        -0.295201       -0.735018   \n",
       "2 -1.736461    -0.81269 -0.558153  -0.719304        -0.295201       -0.735018   \n",
       "3 -1.736461    -0.81269 -0.558153  -0.719304        -0.295201       -0.735018   \n",
       "4 -1.736461    -0.81269 -0.558153  -0.719304        -0.295201       -0.731931   \n",
       "\n",
       "   max_trunk_capacity_l  number_of_cylinders  engine_type  \\\n",
       "0             -0.796007            -0.271018    -0.303754   \n",
       "1             -0.796007            -0.271018    -0.303754   \n",
       "2             -0.796007            -0.271018    -0.303754   \n",
       "3             -0.796007            -0.271018    -0.303754   \n",
       "4             -0.796007             0.475496    -0.303754   \n",
       "\n",
       "   valves_per_cylinder  capacity_cm3  engine_hp  drive_wheels  \\\n",
       "0            -0.241637     -0.950450  -0.916182      -0.45353   \n",
       "1            -0.241637     -0.950450  -0.916182      -0.45353   \n",
       "2            -0.241637     -0.946013  -0.905410      -0.45353   \n",
       "3            -0.241637     -0.946013  -0.905410      -0.45353   \n",
       "4            -0.241637     -0.941576  -0.894638      -0.45353   \n",
       "\n",
       "   number_of_gears  transmission  fuel_tank_capacity_l  max_speed_km_per_h  \\\n",
       "0        -0.673058     -0.618702             -0.853188           -0.771596   \n",
       "1        -0.035066      0.504070             -0.853188           -0.750229   \n",
       "2        -0.673058     -0.618702             -0.853188           -0.771596   \n",
       "3        -0.035066      0.504070             -0.853188           -0.750229   \n",
       "4        -0.673058     -0.618702             -0.853188           -0.792963   \n",
       "\n",
       "   city_fuel_per_100km_l  fuel_grade  rear_brakes  \n",
       "0              -0.798583   -0.903041    -0.409875  \n",
       "1              -0.779333   -0.903041    -0.409875  \n",
       "2              -0.798583   -0.903041    -0.409875  \n",
       "3              -0.779333   -0.903041    -0.409875  \n",
       "4              -0.798583   -0.421997    -0.409875  "
      ]
     },
     "execution_count": 5,
     "metadata": {},
     "output_type": "execute_result"
    }
   ],
   "source": [
    "# standard scaler\n",
    "columns = x.columns\n",
    "scaler = StandardScaler()\n",
    "X_std = scaler.fit_transform(x)\n",
    "X_std = pd.DataFrame(X_std, columns = columns)\n",
    "\n",
    "\n",
    "X_std.head()"
   ]
  },
  {
   "cell_type": "code",
   "execution_count": 6,
   "id": "6xFByD88-mgB",
   "metadata": {
    "colab": {
     "base_uri": "https://localhost:8080/"
    },
    "executionInfo": {
     "elapsed": 43,
     "status": "ok",
     "timestamp": 1661544262224,
     "user": {
      "displayName": "Digital marketing Gym",
      "userId": "02892463931383007693"
     },
     "user_tz": -60
    },
    "id": "6xFByD88-mgB",
    "outputId": "88f1be17-f650-46a8-fea1-cdff54a319d8"
   },
   "outputs": [
    {
     "name": "stdout",
     "output_type": "stream",
     "text": [
      "Accuracy of linear regression on test set with standardized features: 0.92\n"
     ]
    }
   ],
   "source": [
    "\n",
    "x_train, x_test, y_train, y_test = train_test_split(X_std, y, test_size = 0.3, random_state = 10)\n",
    "\n",
    "lr_std = LinearRegression()\n",
    "lr_std.fit(x_train, y_train)\n",
    "y_pred = lr_std.predict(x_test)\n",
    "print('Accuracy of linear regression on test set with standardized features: {:.2f}'.format(lr_std.score(x_test, y_test)))"
   ]
  },
  {
   "cell_type": "code",
   "execution_count": 7,
   "id": "552bf313-3eca-4ca3-ab43-6cdecaa9db3e",
   "metadata": {
    "colab": {
     "base_uri": "https://localhost:8080/",
     "height": 270
    },
    "executionInfo": {
     "elapsed": 37,
     "status": "ok",
     "timestamp": 1661544262226,
     "user": {
      "displayName": "Digital marketing Gym",
      "userId": "02892463931383007693"
     },
     "user_tz": -60
    },
    "id": "552bf313-3eca-4ca3-ab43-6cdecaa9db3e",
    "outputId": "29f851c6-28f3-48df-a59f-c8317be3ef04"
   },
   "outputs": [
    {
     "data": {
      "text/html": [
       "<div>\n",
       "<style scoped>\n",
       "    .dataframe tbody tr th:only-of-type {\n",
       "        vertical-align: middle;\n",
       "    }\n",
       "\n",
       "    .dataframe tbody tr th {\n",
       "        vertical-align: top;\n",
       "    }\n",
       "\n",
       "    .dataframe thead th {\n",
       "        text-align: right;\n",
       "    }\n",
       "</style>\n",
       "<table border=\"1\" class=\"dataframe\">\n",
       "  <thead>\n",
       "    <tr style=\"text-align: right;\">\n",
       "      <th></th>\n",
       "      <th>model</th>\n",
       "      <th>generation</th>\n",
       "      <th>series</th>\n",
       "      <th>body_type</th>\n",
       "      <th>number_of_seats</th>\n",
       "      <th>curb_weight_kg</th>\n",
       "      <th>max_trunk_capacity_l</th>\n",
       "      <th>number_of_cylinders</th>\n",
       "      <th>engine_type</th>\n",
       "      <th>valves_per_cylinder</th>\n",
       "      <th>capacity_cm3</th>\n",
       "      <th>engine_hp</th>\n",
       "      <th>drive_wheels</th>\n",
       "      <th>number_of_gears</th>\n",
       "      <th>transmission</th>\n",
       "      <th>fuel_tank_capacity_l</th>\n",
       "      <th>max_speed_km_per_h</th>\n",
       "      <th>city_fuel_per_100km_l</th>\n",
       "      <th>fuel_grade</th>\n",
       "      <th>rear_brakes</th>\n",
       "    </tr>\n",
       "  </thead>\n",
       "  <tbody>\n",
       "    <tr>\n",
       "      <th>0</th>\n",
       "      <td>0.0</td>\n",
       "      <td>0.000876</td>\n",
       "      <td>0.0</td>\n",
       "      <td>0.066667</td>\n",
       "      <td>0.034483</td>\n",
       "      <td>0.000671</td>\n",
       "      <td>0.000947</td>\n",
       "      <td>0.111111</td>\n",
       "      <td>0.111111</td>\n",
       "      <td>0.166667</td>\n",
       "      <td>0.001149</td>\n",
       "      <td>0.002160</td>\n",
       "      <td>0.166667</td>\n",
       "      <td>0.1</td>\n",
       "      <td>0.166667</td>\n",
       "      <td>0.007353</td>\n",
       "      <td>0.004167</td>\n",
       "      <td>0.003636</td>\n",
       "      <td>0.045455</td>\n",
       "      <td>0.090909</td>\n",
       "    </tr>\n",
       "    <tr>\n",
       "      <th>1</th>\n",
       "      <td>0.0</td>\n",
       "      <td>0.000876</td>\n",
       "      <td>0.0</td>\n",
       "      <td>0.066667</td>\n",
       "      <td>0.034483</td>\n",
       "      <td>0.000671</td>\n",
       "      <td>0.000947</td>\n",
       "      <td>0.111111</td>\n",
       "      <td>0.111111</td>\n",
       "      <td>0.166667</td>\n",
       "      <td>0.001149</td>\n",
       "      <td>0.002160</td>\n",
       "      <td>0.166667</td>\n",
       "      <td>0.2</td>\n",
       "      <td>0.333333</td>\n",
       "      <td>0.007353</td>\n",
       "      <td>0.008333</td>\n",
       "      <td>0.007273</td>\n",
       "      <td>0.045455</td>\n",
       "      <td>0.090909</td>\n",
       "    </tr>\n",
       "    <tr>\n",
       "      <th>2</th>\n",
       "      <td>0.0</td>\n",
       "      <td>0.000876</td>\n",
       "      <td>0.0</td>\n",
       "      <td>0.066667</td>\n",
       "      <td>0.034483</td>\n",
       "      <td>0.000671</td>\n",
       "      <td>0.000947</td>\n",
       "      <td>0.111111</td>\n",
       "      <td>0.111111</td>\n",
       "      <td>0.166667</td>\n",
       "      <td>0.002299</td>\n",
       "      <td>0.004320</td>\n",
       "      <td>0.166667</td>\n",
       "      <td>0.1</td>\n",
       "      <td>0.166667</td>\n",
       "      <td>0.007353</td>\n",
       "      <td>0.004167</td>\n",
       "      <td>0.003636</td>\n",
       "      <td>0.045455</td>\n",
       "      <td>0.090909</td>\n",
       "    </tr>\n",
       "    <tr>\n",
       "      <th>3</th>\n",
       "      <td>0.0</td>\n",
       "      <td>0.000876</td>\n",
       "      <td>0.0</td>\n",
       "      <td>0.066667</td>\n",
       "      <td>0.034483</td>\n",
       "      <td>0.000671</td>\n",
       "      <td>0.000947</td>\n",
       "      <td>0.111111</td>\n",
       "      <td>0.111111</td>\n",
       "      <td>0.166667</td>\n",
       "      <td>0.002299</td>\n",
       "      <td>0.004320</td>\n",
       "      <td>0.166667</td>\n",
       "      <td>0.2</td>\n",
       "      <td>0.333333</td>\n",
       "      <td>0.007353</td>\n",
       "      <td>0.008333</td>\n",
       "      <td>0.007273</td>\n",
       "      <td>0.045455</td>\n",
       "      <td>0.090909</td>\n",
       "    </tr>\n",
       "    <tr>\n",
       "      <th>4</th>\n",
       "      <td>0.0</td>\n",
       "      <td>0.000876</td>\n",
       "      <td>0.0</td>\n",
       "      <td>0.066667</td>\n",
       "      <td>0.034483</td>\n",
       "      <td>0.001342</td>\n",
       "      <td>0.000947</td>\n",
       "      <td>0.222222</td>\n",
       "      <td>0.111111</td>\n",
       "      <td>0.166667</td>\n",
       "      <td>0.003448</td>\n",
       "      <td>0.006479</td>\n",
       "      <td>0.166667</td>\n",
       "      <td>0.1</td>\n",
       "      <td>0.166667</td>\n",
       "      <td>0.007353</td>\n",
       "      <td>0.000000</td>\n",
       "      <td>0.003636</td>\n",
       "      <td>0.090909</td>\n",
       "      <td>0.090909</td>\n",
       "    </tr>\n",
       "  </tbody>\n",
       "</table>\n",
       "</div>"
      ],
      "text/plain": [
       "   model  generation  series  body_type  number_of_seats  curb_weight_kg  \\\n",
       "0    0.0    0.000876     0.0   0.066667         0.034483        0.000671   \n",
       "1    0.0    0.000876     0.0   0.066667         0.034483        0.000671   \n",
       "2    0.0    0.000876     0.0   0.066667         0.034483        0.000671   \n",
       "3    0.0    0.000876     0.0   0.066667         0.034483        0.000671   \n",
       "4    0.0    0.000876     0.0   0.066667         0.034483        0.001342   \n",
       "\n",
       "   max_trunk_capacity_l  number_of_cylinders  engine_type  \\\n",
       "0              0.000947             0.111111     0.111111   \n",
       "1              0.000947             0.111111     0.111111   \n",
       "2              0.000947             0.111111     0.111111   \n",
       "3              0.000947             0.111111     0.111111   \n",
       "4              0.000947             0.222222     0.111111   \n",
       "\n",
       "   valves_per_cylinder  capacity_cm3  engine_hp  drive_wheels  \\\n",
       "0             0.166667      0.001149   0.002160      0.166667   \n",
       "1             0.166667      0.001149   0.002160      0.166667   \n",
       "2             0.166667      0.002299   0.004320      0.166667   \n",
       "3             0.166667      0.002299   0.004320      0.166667   \n",
       "4             0.166667      0.003448   0.006479      0.166667   \n",
       "\n",
       "   number_of_gears  transmission  fuel_tank_capacity_l  max_speed_km_per_h  \\\n",
       "0              0.1      0.166667              0.007353            0.004167   \n",
       "1              0.2      0.333333              0.007353            0.008333   \n",
       "2              0.1      0.166667              0.007353            0.004167   \n",
       "3              0.2      0.333333              0.007353            0.008333   \n",
       "4              0.1      0.166667              0.007353            0.000000   \n",
       "\n",
       "   city_fuel_per_100km_l  fuel_grade  rear_brakes  \n",
       "0               0.003636    0.045455     0.090909  \n",
       "1               0.007273    0.045455     0.090909  \n",
       "2               0.003636    0.045455     0.090909  \n",
       "3               0.007273    0.045455     0.090909  \n",
       "4               0.003636    0.090909     0.090909  "
      ]
     },
     "execution_count": 7,
     "metadata": {},
     "output_type": "execute_result"
    }
   ],
   "source": [
    "# standard scaler\n",
    "norm = MinMaxScaler()\n",
    "X_norm = norm.fit_transform(x)\n",
    "X_norm = pd.DataFrame(X_norm, columns = columns)\n",
    "\n",
    "\n",
    "X_norm.head()"
   ]
  },
  {
   "cell_type": "code",
   "execution_count": 8,
   "id": "6tfZGMN5-wCq",
   "metadata": {
    "colab": {
     "base_uri": "https://localhost:8080/"
    },
    "executionInfo": {
     "elapsed": 35,
     "status": "ok",
     "timestamp": 1661544262228,
     "user": {
      "displayName": "Digital marketing Gym",
      "userId": "02892463931383007693"
     },
     "user_tz": -60
    },
    "id": "6tfZGMN5-wCq",
    "outputId": "a8b2800a-6853-455f-cc58-71370ece18eb"
   },
   "outputs": [
    {
     "name": "stdout",
     "output_type": "stream",
     "text": [
      "Accuracy of linear regression on test set with Normalized features: 0.92\n"
     ]
    }
   ],
   "source": [
    "x1_train, x1_test, y1_train, y1_test = train_test_split(X_norm, y, test_size = 0.3, random_state = 10)\n",
    "\n",
    "lr_norm = LinearRegression()\n",
    "lr_norm.fit(x1_train, y1_train)\n",
    "y_pred = lr_norm.predict(x1_test)\n",
    "print('Accuracy of linear regression on test set with Normalized features: {:.2f}'.format(lr_norm.score(x1_test, y1_test)))\n"
   ]
  },
  {
   "cell_type": "code",
   "execution_count": 9,
   "id": "78w71Zmf-3CF",
   "metadata": {
    "executionInfo": {
     "elapsed": 33,
     "status": "ok",
     "timestamp": 1661544262230,
     "user": {
      "displayName": "Digital marketing Gym",
      "userId": "02892463931383007693"
     },
     "user_tz": -60
    },
    "id": "78w71Zmf-3CF"
   },
   "outputs": [],
   "source": [
    "Standardize_Var = ['model']\n",
    "Standardize_transformer = Pipeline(steps=[('standard', StandardScaler())])\n",
    "Normalize_Var = ['generation','series','body_type','number_of_seats','curb_weight_kg',\n",
    "                 'max_trunk_capacity_l','number_of_cylinders','engine_type','valves_per_cylinder','capacity_cm3',\n",
    "                 'engine_hp','drive_wheels','number_of_gears','transmission','fuel_tank_capacity_l',\n",
    "                 'max_speed_km_per_h','city_fuel_per_100km_l','fuel_grade','rear_brakes',]\n",
    "Normalize_transformer = Pipeline(steps=[('norm', MinMaxScaler())])"
   ]
  },
  {
   "cell_type": "code",
   "execution_count": 10,
   "id": "coDfITtr_d2f",
   "metadata": {
    "colab": {
     "base_uri": "https://localhost:8080/"
    },
    "executionInfo": {
     "elapsed": 427,
     "status": "ok",
     "timestamp": 1661544262626,
     "user": {
      "displayName": "Digital marketing Gym",
      "userId": "02892463931383007693"
     },
     "user_tz": -60
    },
    "id": "coDfITtr_d2f",
    "outputId": "97795eb8-5648-4b09-edb4-2bc3439bb21f"
   },
   "outputs": [
    {
     "name": "stdout",
     "output_type": "stream",
     "text": [
      "Accuracy after standardizing Gaussian distributed features and normalizing Non-Gaussian features: 0.92\n"
     ]
    }
   ],
   "source": [
    "x2_train, x2_test, y2_train, y2_test = train_test_split(x, y, test_size=0.3)\n",
    "preprocessor = ColumnTransformer(transformers= [('standard', Standardize_transformer, Standardize_Var), \n",
    "                                                ('norm', Normalize_transformer, Normalize_Var)])\n",
    "clf = Pipeline(steps=[('preprocessor', preprocessor), ('regressor', LinearRegression())])\n",
    "clf.fit(x2_train, y2_train)\n",
    "print('Accuracy after standardizing Gaussian distributed features and normalizing Non-Gaussian features: {:.2f}'.format(clf.score(x2_test, y2_test)))"
   ]
  },
  {
   "cell_type": "code",
   "execution_count": 11,
   "id": "17b33e68",
   "metadata": {
    "executionInfo": {
     "elapsed": 28,
     "status": "ok",
     "timestamp": 1661544262627,
     "user": {
      "displayName": "Digital marketing Gym",
      "userId": "02892463931383007693"
     },
     "user_tz": -60
    },
    "id": "17b33e68"
   },
   "outputs": [],
   "source": [
    "x_train,x_test,y_train,y_test = train_test_split(x,y,test_size = 0.3,random_state = 1)"
   ]
  },
  {
   "cell_type": "code",
   "execution_count": 12,
   "id": "8ae2d95e-5c1f-4873-8095-df07feeec43a",
   "metadata": {
    "colab": {
     "base_uri": "https://localhost:8080/",
     "height": 270
    },
    "executionInfo": {
     "elapsed": 28,
     "status": "ok",
     "timestamp": 1661544262629,
     "user": {
      "displayName": "Digital marketing Gym",
      "userId": "02892463931383007693"
     },
     "user_tz": -60
    },
    "id": "8ae2d95e-5c1f-4873-8095-df07feeec43a",
    "outputId": "b2a2137e-2c97-4f76-bbb1-1a50edfea217"
   },
   "outputs": [
    {
     "data": {
      "text/html": [
       "<div>\n",
       "<style scoped>\n",
       "    .dataframe tbody tr th:only-of-type {\n",
       "        vertical-align: middle;\n",
       "    }\n",
       "\n",
       "    .dataframe tbody tr th {\n",
       "        vertical-align: top;\n",
       "    }\n",
       "\n",
       "    .dataframe thead th {\n",
       "        text-align: right;\n",
       "    }\n",
       "</style>\n",
       "<table border=\"1\" class=\"dataframe\">\n",
       "  <thead>\n",
       "    <tr style=\"text-align: right;\">\n",
       "      <th></th>\n",
       "      <th>model</th>\n",
       "      <th>generation</th>\n",
       "      <th>series</th>\n",
       "      <th>body_type</th>\n",
       "      <th>number_of_seats</th>\n",
       "      <th>curb_weight_kg</th>\n",
       "      <th>max_trunk_capacity_l</th>\n",
       "      <th>number_of_cylinders</th>\n",
       "      <th>engine_type</th>\n",
       "      <th>valves_per_cylinder</th>\n",
       "      <th>capacity_cm3</th>\n",
       "      <th>engine_hp</th>\n",
       "      <th>drive_wheels</th>\n",
       "      <th>number_of_gears</th>\n",
       "      <th>transmission</th>\n",
       "      <th>fuel_tank_capacity_l</th>\n",
       "      <th>max_speed_km_per_h</th>\n",
       "      <th>city_fuel_per_100km_l</th>\n",
       "      <th>fuel_grade</th>\n",
       "      <th>rear_brakes</th>\n",
       "    </tr>\n",
       "  </thead>\n",
       "  <tbody>\n",
       "    <tr>\n",
       "      <th>30028</th>\n",
       "      <td>0.731501</td>\n",
       "      <td>0.002627</td>\n",
       "      <td>0.001297</td>\n",
       "      <td>0.000000</td>\n",
       "      <td>0.034483</td>\n",
       "      <td>0.000000</td>\n",
       "      <td>0.000000</td>\n",
       "      <td>0.111111</td>\n",
       "      <td>0.333333</td>\n",
       "      <td>0.166667</td>\n",
       "      <td>0.857471</td>\n",
       "      <td>0.002160</td>\n",
       "      <td>0.166667</td>\n",
       "      <td>0.2</td>\n",
       "      <td>0.333333</td>\n",
       "      <td>0.250000</td>\n",
       "      <td>0.020833</td>\n",
       "      <td>0.000000</td>\n",
       "      <td>0.045455</td>\n",
       "      <td>0.000000</td>\n",
       "    </tr>\n",
       "    <tr>\n",
       "      <th>2690</th>\n",
       "      <td>0.052854</td>\n",
       "      <td>0.081436</td>\n",
       "      <td>0.011673</td>\n",
       "      <td>0.333333</td>\n",
       "      <td>0.034483</td>\n",
       "      <td>0.188591</td>\n",
       "      <td>0.104167</td>\n",
       "      <td>0.222222</td>\n",
       "      <td>0.222222</td>\n",
       "      <td>0.166667</td>\n",
       "      <td>0.117241</td>\n",
       "      <td>0.030238</td>\n",
       "      <td>0.333333</td>\n",
       "      <td>0.4</td>\n",
       "      <td>0.166667</td>\n",
       "      <td>0.044118</td>\n",
       "      <td>0.141667</td>\n",
       "      <td>0.000000</td>\n",
       "      <td>0.227273</td>\n",
       "      <td>0.272727</td>\n",
       "    </tr>\n",
       "    <tr>\n",
       "      <th>40494</th>\n",
       "      <td>0.947146</td>\n",
       "      <td>0.990368</td>\n",
       "      <td>0.001297</td>\n",
       "      <td>0.133333</td>\n",
       "      <td>0.034483</td>\n",
       "      <td>0.412081</td>\n",
       "      <td>0.079545</td>\n",
       "      <td>0.111111</td>\n",
       "      <td>0.111111</td>\n",
       "      <td>0.333333</td>\n",
       "      <td>0.090805</td>\n",
       "      <td>0.092873</td>\n",
       "      <td>0.333333</td>\n",
       "      <td>0.2</td>\n",
       "      <td>0.333333</td>\n",
       "      <td>0.066176</td>\n",
       "      <td>0.012500</td>\n",
       "      <td>0.021818</td>\n",
       "      <td>0.136364</td>\n",
       "      <td>0.090909</td>\n",
       "    </tr>\n",
       "    <tr>\n",
       "      <th>536</th>\n",
       "      <td>0.029598</td>\n",
       "      <td>0.001751</td>\n",
       "      <td>0.038911</td>\n",
       "      <td>0.066667</td>\n",
       "      <td>0.103448</td>\n",
       "      <td>0.004027</td>\n",
       "      <td>0.038826</td>\n",
       "      <td>0.666667</td>\n",
       "      <td>0.111111</td>\n",
       "      <td>0.166667</td>\n",
       "      <td>0.070115</td>\n",
       "      <td>0.228942</td>\n",
       "      <td>0.666667</td>\n",
       "      <td>0.3</td>\n",
       "      <td>0.333333</td>\n",
       "      <td>0.176471</td>\n",
       "      <td>0.383333</td>\n",
       "      <td>0.349091</td>\n",
       "      <td>0.136364</td>\n",
       "      <td>0.272727</td>\n",
       "    </tr>\n",
       "    <tr>\n",
       "      <th>21021</th>\n",
       "      <td>0.554968</td>\n",
       "      <td>0.525394</td>\n",
       "      <td>0.345006</td>\n",
       "      <td>0.866667</td>\n",
       "      <td>0.034483</td>\n",
       "      <td>0.056376</td>\n",
       "      <td>0.000000</td>\n",
       "      <td>0.111111</td>\n",
       "      <td>0.111111</td>\n",
       "      <td>0.333333</td>\n",
       "      <td>0.095402</td>\n",
       "      <td>0.041037</td>\n",
       "      <td>0.666667</td>\n",
       "      <td>0.6</td>\n",
       "      <td>0.166667</td>\n",
       "      <td>0.279412</td>\n",
       "      <td>0.491667</td>\n",
       "      <td>0.014545</td>\n",
       "      <td>0.045455</td>\n",
       "      <td>0.181818</td>\n",
       "    </tr>\n",
       "  </tbody>\n",
       "</table>\n",
       "</div>"
      ],
      "text/plain": [
       "          model  generation    series  body_type  number_of_seats  \\\n",
       "30028  0.731501    0.002627  0.001297   0.000000         0.034483   \n",
       "2690   0.052854    0.081436  0.011673   0.333333         0.034483   \n",
       "40494  0.947146    0.990368  0.001297   0.133333         0.034483   \n",
       "536    0.029598    0.001751  0.038911   0.066667         0.103448   \n",
       "21021  0.554968    0.525394  0.345006   0.866667         0.034483   \n",
       "\n",
       "       curb_weight_kg  max_trunk_capacity_l  number_of_cylinders  engine_type  \\\n",
       "30028        0.000000              0.000000             0.111111     0.333333   \n",
       "2690         0.188591              0.104167             0.222222     0.222222   \n",
       "40494        0.412081              0.079545             0.111111     0.111111   \n",
       "536          0.004027              0.038826             0.666667     0.111111   \n",
       "21021        0.056376              0.000000             0.111111     0.111111   \n",
       "\n",
       "       valves_per_cylinder  capacity_cm3  engine_hp  drive_wheels  \\\n",
       "30028             0.166667      0.857471   0.002160      0.166667   \n",
       "2690              0.166667      0.117241   0.030238      0.333333   \n",
       "40494             0.333333      0.090805   0.092873      0.333333   \n",
       "536               0.166667      0.070115   0.228942      0.666667   \n",
       "21021             0.333333      0.095402   0.041037      0.666667   \n",
       "\n",
       "       number_of_gears  transmission  fuel_tank_capacity_l  \\\n",
       "30028              0.2      0.333333              0.250000   \n",
       "2690               0.4      0.166667              0.044118   \n",
       "40494              0.2      0.333333              0.066176   \n",
       "536                0.3      0.333333              0.176471   \n",
       "21021              0.6      0.166667              0.279412   \n",
       "\n",
       "       max_speed_km_per_h  city_fuel_per_100km_l  fuel_grade  rear_brakes  \n",
       "30028            0.020833               0.000000    0.045455     0.000000  \n",
       "2690             0.141667               0.000000    0.227273     0.272727  \n",
       "40494            0.012500               0.021818    0.136364     0.090909  \n",
       "536              0.383333               0.349091    0.136364     0.272727  \n",
       "21021            0.491667               0.014545    0.045455     0.181818  "
      ]
     },
     "execution_count": 12,
     "metadata": {},
     "output_type": "execute_result"
    }
   ],
   "source": [
    "x_train.head()"
   ]
  },
  {
   "cell_type": "code",
   "execution_count": 13,
   "id": "53bfdc84-a0a4-4b4c-8628-9667ad64f2b9",
   "metadata": {
    "colab": {
     "base_uri": "https://localhost:8080/",
     "height": 270
    },
    "executionInfo": {
     "elapsed": 25,
     "status": "ok",
     "timestamp": 1661544262630,
     "user": {
      "displayName": "Digital marketing Gym",
      "userId": "02892463931383007693"
     },
     "user_tz": -60
    },
    "id": "53bfdc84-a0a4-4b4c-8628-9667ad64f2b9",
    "outputId": "2f94a3a6-d45e-4fdb-e8d1-89c54474f605"
   },
   "outputs": [
    {
     "data": {
      "text/html": [
       "<div>\n",
       "<style scoped>\n",
       "    .dataframe tbody tr th:only-of-type {\n",
       "        vertical-align: middle;\n",
       "    }\n",
       "\n",
       "    .dataframe tbody tr th {\n",
       "        vertical-align: top;\n",
       "    }\n",
       "\n",
       "    .dataframe thead th {\n",
       "        text-align: right;\n",
       "    }\n",
       "</style>\n",
       "<table border=\"1\" class=\"dataframe\">\n",
       "  <thead>\n",
       "    <tr style=\"text-align: right;\">\n",
       "      <th></th>\n",
       "      <th>model</th>\n",
       "      <th>generation</th>\n",
       "      <th>series</th>\n",
       "      <th>body_type</th>\n",
       "      <th>number_of_seats</th>\n",
       "      <th>curb_weight_kg</th>\n",
       "      <th>max_trunk_capacity_l</th>\n",
       "      <th>number_of_cylinders</th>\n",
       "      <th>engine_type</th>\n",
       "      <th>valves_per_cylinder</th>\n",
       "      <th>capacity_cm3</th>\n",
       "      <th>engine_hp</th>\n",
       "      <th>drive_wheels</th>\n",
       "      <th>number_of_gears</th>\n",
       "      <th>transmission</th>\n",
       "      <th>fuel_tank_capacity_l</th>\n",
       "      <th>max_speed_km_per_h</th>\n",
       "      <th>city_fuel_per_100km_l</th>\n",
       "      <th>fuel_grade</th>\n",
       "      <th>rear_brakes</th>\n",
       "    </tr>\n",
       "  </thead>\n",
       "  <tbody>\n",
       "    <tr>\n",
       "      <th>35716</th>\n",
       "      <td>0.840381</td>\n",
       "      <td>0.848511</td>\n",
       "      <td>0.070039</td>\n",
       "      <td>0.000000</td>\n",
       "      <td>0.034483</td>\n",
       "      <td>0.000000</td>\n",
       "      <td>0.000000</td>\n",
       "      <td>0.000000</td>\n",
       "      <td>0.000000</td>\n",
       "      <td>0.000000</td>\n",
       "      <td>0.000000</td>\n",
       "      <td>0.000000</td>\n",
       "      <td>0.000000</td>\n",
       "      <td>0.0</td>\n",
       "      <td>0.000000</td>\n",
       "      <td>0.000000</td>\n",
       "      <td>0.000000</td>\n",
       "      <td>0.000000</td>\n",
       "      <td>0.000000</td>\n",
       "      <td>0.000000</td>\n",
       "    </tr>\n",
       "    <tr>\n",
       "      <th>4819</th>\n",
       "      <td>0.096195</td>\n",
       "      <td>0.156743</td>\n",
       "      <td>0.000000</td>\n",
       "      <td>0.066667</td>\n",
       "      <td>0.103448</td>\n",
       "      <td>0.161074</td>\n",
       "      <td>0.083333</td>\n",
       "      <td>0.222222</td>\n",
       "      <td>0.111111</td>\n",
       "      <td>0.166667</td>\n",
       "      <td>0.150575</td>\n",
       "      <td>0.345572</td>\n",
       "      <td>0.666667</td>\n",
       "      <td>0.3</td>\n",
       "      <td>0.333333</td>\n",
       "      <td>0.044118</td>\n",
       "      <td>0.079167</td>\n",
       "      <td>0.021818</td>\n",
       "      <td>0.181818</td>\n",
       "      <td>0.272727</td>\n",
       "    </tr>\n",
       "    <tr>\n",
       "      <th>7337</th>\n",
       "      <td>0.146934</td>\n",
       "      <td>0.253065</td>\n",
       "      <td>0.003891</td>\n",
       "      <td>0.200000</td>\n",
       "      <td>0.034483</td>\n",
       "      <td>0.075168</td>\n",
       "      <td>0.081439</td>\n",
       "      <td>0.111111</td>\n",
       "      <td>0.111111</td>\n",
       "      <td>0.333333</td>\n",
       "      <td>0.281609</td>\n",
       "      <td>0.643629</td>\n",
       "      <td>0.166667</td>\n",
       "      <td>0.2</td>\n",
       "      <td>0.333333</td>\n",
       "      <td>0.522059</td>\n",
       "      <td>0.500000</td>\n",
       "      <td>0.054545</td>\n",
       "      <td>0.045455</td>\n",
       "      <td>0.181818</td>\n",
       "    </tr>\n",
       "    <tr>\n",
       "      <th>37742</th>\n",
       "      <td>0.884778</td>\n",
       "      <td>0.001751</td>\n",
       "      <td>0.002594</td>\n",
       "      <td>0.000000</td>\n",
       "      <td>0.034483</td>\n",
       "      <td>0.151678</td>\n",
       "      <td>0.837121</td>\n",
       "      <td>0.111111</td>\n",
       "      <td>0.222222</td>\n",
       "      <td>0.166667</td>\n",
       "      <td>0.274713</td>\n",
       "      <td>0.043197</td>\n",
       "      <td>0.166667</td>\n",
       "      <td>0.2</td>\n",
       "      <td>0.500000</td>\n",
       "      <td>0.272059</td>\n",
       "      <td>0.058333</td>\n",
       "      <td>0.000000</td>\n",
       "      <td>0.227273</td>\n",
       "      <td>0.181818</td>\n",
       "    </tr>\n",
       "    <tr>\n",
       "      <th>27286</th>\n",
       "      <td>0.656448</td>\n",
       "      <td>0.007005</td>\n",
       "      <td>0.045396</td>\n",
       "      <td>0.066667</td>\n",
       "      <td>0.103448</td>\n",
       "      <td>0.000000</td>\n",
       "      <td>0.626894</td>\n",
       "      <td>0.222222</td>\n",
       "      <td>0.111111</td>\n",
       "      <td>0.333333</td>\n",
       "      <td>0.803448</td>\n",
       "      <td>0.861771</td>\n",
       "      <td>0.666667</td>\n",
       "      <td>0.1</td>\n",
       "      <td>0.166667</td>\n",
       "      <td>0.448529</td>\n",
       "      <td>0.000000</td>\n",
       "      <td>0.000000</td>\n",
       "      <td>0.045455</td>\n",
       "      <td>0.181818</td>\n",
       "    </tr>\n",
       "  </tbody>\n",
       "</table>\n",
       "</div>"
      ],
      "text/plain": [
       "          model  generation    series  body_type  number_of_seats  \\\n",
       "35716  0.840381    0.848511  0.070039   0.000000         0.034483   \n",
       "4819   0.096195    0.156743  0.000000   0.066667         0.103448   \n",
       "7337   0.146934    0.253065  0.003891   0.200000         0.034483   \n",
       "37742  0.884778    0.001751  0.002594   0.000000         0.034483   \n",
       "27286  0.656448    0.007005  0.045396   0.066667         0.103448   \n",
       "\n",
       "       curb_weight_kg  max_trunk_capacity_l  number_of_cylinders  engine_type  \\\n",
       "35716        0.000000              0.000000             0.000000     0.000000   \n",
       "4819         0.161074              0.083333             0.222222     0.111111   \n",
       "7337         0.075168              0.081439             0.111111     0.111111   \n",
       "37742        0.151678              0.837121             0.111111     0.222222   \n",
       "27286        0.000000              0.626894             0.222222     0.111111   \n",
       "\n",
       "       valves_per_cylinder  capacity_cm3  engine_hp  drive_wheels  \\\n",
       "35716             0.000000      0.000000   0.000000      0.000000   \n",
       "4819              0.166667      0.150575   0.345572      0.666667   \n",
       "7337              0.333333      0.281609   0.643629      0.166667   \n",
       "37742             0.166667      0.274713   0.043197      0.166667   \n",
       "27286             0.333333      0.803448   0.861771      0.666667   \n",
       "\n",
       "       number_of_gears  transmission  fuel_tank_capacity_l  \\\n",
       "35716              0.0      0.000000              0.000000   \n",
       "4819               0.3      0.333333              0.044118   \n",
       "7337               0.2      0.333333              0.522059   \n",
       "37742              0.2      0.500000              0.272059   \n",
       "27286              0.1      0.166667              0.448529   \n",
       "\n",
       "       max_speed_km_per_h  city_fuel_per_100km_l  fuel_grade  rear_brakes  \n",
       "35716            0.000000               0.000000    0.000000     0.000000  \n",
       "4819             0.079167               0.021818    0.181818     0.272727  \n",
       "7337             0.500000               0.054545    0.045455     0.181818  \n",
       "37742            0.058333               0.000000    0.227273     0.181818  \n",
       "27286            0.000000               0.000000    0.045455     0.181818  "
      ]
     },
     "execution_count": 13,
     "metadata": {},
     "output_type": "execute_result"
    }
   ],
   "source": [
    "x_test.head()"
   ]
  },
  {
   "cell_type": "markdown",
   "id": "f1b79ce6",
   "metadata": {
    "id": "f1b79ce6"
   },
   "source": [
    "**3. Compare Basic Models Performance**"
   ]
  },
  {
   "cell_type": "code",
   "execution_count": 14,
   "id": "1b54daf4",
   "metadata": {
    "executionInfo": {
     "elapsed": 23,
     "status": "ok",
     "timestamp": 1661544262631,
     "user": {
      "displayName": "Digital marketing Gym",
      "userId": "02892463931383007693"
     },
     "user_tz": -60
    },
    "id": "1b54daf4"
   },
   "outputs": [],
   "source": [
    "# Function for evaluating model performance\n",
    "def model_performance(model,model_name,x_train = x_train,y_train = y_train,x_test = x_test,y_test = y_test):\n",
    "    \n",
    "    y_train_pred = model.predict(x_train)\n",
    "    y_test_pred = model.predict(x_test)\n",
    "    \n",
    "    Training_Score = np.round(model.score(x_train,y_train),20)\n",
    "    Testing_Score = np.round(model.score(x_test,y_test),20)\n",
    "    \n",
    "    mse_training = np.round(mean_squared_error(y_train,y_train_pred),20)\n",
    "    mse_testing = np.round(mean_squared_error(y_test,y_test_pred),20)\n",
    "    \n",
    "    rmse_training = np.round(mean_squared_error(y_train,y_train_pred, squared=False),20)\n",
    "    rmse_testing = np.round(mean_squared_error(y_test,y_test_pred, squared=False),20)\n",
    "    \n",
    "    mae_training = np.round(mean_absolute_error(y_train,y_train_pred),20)\n",
    "    mae_testing = np.round(mean_absolute_error(y_test,y_test_pred),20)\n",
    "    \n",
    "    r2_training = np.round(r2_score(y_train,y_train_pred),20)\n",
    "    r2_testing = np.round(r2_score(y_test,y_test_pred),20)\n",
    "    \n",
    "    print(\"Model Performance for:\",model_name)\n",
    "    print(\"\")\n",
    "    \n",
    "    print(\"Training Score:\",Training_Score)\n",
    "    print(\"Testing Score:\",Testing_Score)\n",
    "    print(\"\")\n",
    "    \n",
    "    print(\"Training Data MSE:\",mse_training)\n",
    "    print(\"Testing Data MSE:\",mse_testing)\n",
    "    print(\"\")\n",
    "    \n",
    "    print(\"Training Data RMSE:\",rmse_training)\n",
    "    print(\"Testing Data RMSE:\",rmse_testing)\n",
    "    print(\"\")\n",
    "    \n",
    "    print(\"Training Data MAE:\",mae_training)\n",
    "    print(\"Testing Data MAE:\",mae_testing)\n",
    "    print(\"\")\n",
    "    \n",
    "    print(\"Training Data R2:\",r2_training)\n",
    "    print(\"Testing Data R2:\",r2_testing)\n",
    "    print(\"\")\n",
    "    \n",
    "    print(\"Residual Analysis:\")\n",
    "    plt.figure(figsize = (20,5))\n",
    "    plt.scatter(y_train,(y_train-y_train_pred),color = \"red\",label = 'Training Predictions')\n",
    "    plt.scatter(y_test,(y_test-y_test_pred),color = \"green\",label = 'Testing Predictions', alpha=0.5)\n",
    "    plt.legend(loc=\"upper left\")\n",
    "    plt.title(\"Training Predictions v/s Testing Predictions\")\n",
    "    plt.show()\n",
    "    \n",
    "    \n",
    "    plt.figure(figsize = (20,5))\n",
    "    plt.scatter(x=y_train, y=y_train_pred, c=\"#6495ED\", alpha=0.3)\n",
    "    z = np.polyfit(y_train, y_train_pred, 1)\n",
    "    p = np.poly1d(z)\n",
    "    plt.plot(y_train,p(y_train),\"#DC143C\")\n",
    "    plt.ylabel('Predicted Sales')\n",
    "    plt.xlabel('Real Sales')\n",
    "    \n",
    "    return Training_Score,Testing_Score,mse_training,mse_testing,mae_training,mae_testing,r2_training,r2_testing"
   ]
  },
  {
   "cell_type": "markdown",
   "id": "5b9a3395",
   "metadata": {
    "id": "5b9a3395"
   },
   "source": [
    "# 1. Linear Regresssion"
   ]
  },
  {
   "cell_type": "code",
   "execution_count": 15,
   "id": "8e02368b",
   "metadata": {
    "colab": {
     "base_uri": "https://localhost:8080/",
     "height": 880
    },
    "executionInfo": {
     "elapsed": 966,
     "status": "ok",
     "timestamp": 1661544263575,
     "user": {
      "displayName": "Digital marketing Gym",
      "userId": "02892463931383007693"
     },
     "user_tz": -60
    },
    "id": "8e02368b",
    "outputId": "7e79e13a-c210-4436-c4b1-b4d7d1710e19"
   },
   "outputs": [
    {
     "name": "stdout",
     "output_type": "stream",
     "text": [
      "Model Performance for: LinearRegression()\n",
      "\n",
      "Training Score: 0.9228111637971691\n",
      "Testing Score: 0.924610906761897\n",
      "\n",
      "Training Data MSE: 0.006697672217479657\n",
      "Testing Data MSE: 0.0066079996078652215\n",
      "\n",
      "Training Data RMSE: 0.08183930728861076\n",
      "Testing Data RMSE: 0.0812896033196449\n",
      "\n",
      "Training Data MAE: 0.03161685124332672\n",
      "Testing Data MAE: 0.0321815836568959\n",
      "\n",
      "Training Data R2: 0.9228111637971691\n",
      "Testing Data R2: 0.924610906761897\n",
      "\n",
      "Residual Analysis:\n"
     ]
    },
    {
     "data": {
      "image/png": "[encoded data removed]",
      "text/plain": [
       "<Figure size 1440x360 with 1 Axes>"
      ]
     },
     "metadata": {
      "needs_background": "light"
     },
     "output_type": "display_data"
    },
    {
     "data": {
      "image/png": "[encoded data removed]",
      "text/plain": [
       "<Figure size 1440x360 with 1 Axes>"
      ]
     },
     "metadata": {
      "needs_background": "light"
     },
     "output_type": "display_data"
    }
   ],
   "source": [
    "model = LinearRegression()\n",
    "model.fit(x_train,y_train)\n",
    "LR_performance = model_performance(model,model_name = model)"
   ]
  },
  {
   "cell_type": "markdown",
   "id": "e5f8a15f",
   "metadata": {
    "id": "e5f8a15f"
   },
   "source": [
    "# 2. Ridge Regression"
   ]
  },
  {
   "cell_type": "code",
   "execution_count": 16,
   "id": "2221303e",
   "metadata": {
    "colab": {
     "base_uri": "https://localhost:8080/"
    },
    "executionInfo": {
     "elapsed": 4694,
     "status": "ok",
     "timestamp": 1661544268267,
     "user": {
      "displayName": "Digital marketing Gym",
      "userId": "02892463931383007693"
     },
     "user_tz": -60
    },
    "id": "2221303e",
    "outputId": "dae634f5-8521-4858-c7d4-408aaef335dc"
   },
   "outputs": [
    {
     "data": {
      "text/plain": [
       "GridSearchCV(cv=5, estimator=Ridge(),\n",
       "             param_grid={'alpha': array([0.33209114, 0.91290122, 0.0010689 , 0.93784173, 0.97355053,\n",
       "       0.06686541, 0.352808  , 0.83139052, 0.91711923, 0.82814111,\n",
       "       0.64180329, 0.05599731, 0.34592172, 0.69441771, 0.26964266,\n",
       "       0.10169676, 0.07725414, 0.10429052, 0.02294415, 0.14176548,\n",
       "       0.53835165, 0.30444739, 0.86259769, 0.53820407, 0.13444245,\n",
       "       0.42585997, 0.25...\n",
       "       0.71115631, 0.06902639, 0.49051837, 0.49200465, 0.28942928,\n",
       "       0.17190147, 0.73738604, 0.74161556, 0.38815117, 0.79827262,\n",
       "       0.82530002, 0.74327064, 0.65583251, 0.41687572, 0.14945508,\n",
       "       0.56233511, 0.83201896, 0.84512165, 0.88335019, 0.6584446 ,\n",
       "       0.4852344 , 0.05256307, 0.23174677, 0.15701993, 0.48355559,\n",
       "       0.82673888, 0.03735941, 0.53942366, 0.93285255, 0.80746732,\n",
       "       0.57921792, 0.80805825, 0.445729  , 0.11985974, 0.91203024])})"
      ]
     },
     "execution_count": 16,
     "metadata": {},
     "output_type": "execute_result"
    }
   ],
   "source": [
    "param_grid = {'alpha':np.random.rand(100)}\n",
    "grid = GridSearchCV(Ridge(),param_grid = param_grid,cv=5)\n",
    "grid.fit(x,y)"
   ]
  },
  {
   "cell_type": "code",
   "execution_count": 17,
   "id": "1a7696d9",
   "metadata": {
    "colab": {
     "base_uri": "https://localhost:8080/",
     "height": 880
    },
    "executionInfo": {
     "elapsed": 706,
     "status": "ok",
     "timestamp": 1661544268969,
     "user": {
      "displayName": "Digital marketing Gym",
      "userId": "02892463931383007693"
     },
     "user_tz": -60
    },
    "id": "1a7696d9",
    "outputId": "b9682b82-64ba-4642-c6ce-8f732dc4a6d1"
   },
   "outputs": [
    {
     "name": "stdout",
     "output_type": "stream",
     "text": [
      "Model Performance for: Ridge(alpha=0.0010689021232651585)\n",
      "\n",
      "Training Score: 0.9228111637969165\n",
      "Testing Score: 0.9246109074311203\n",
      "\n",
      "Training Data MSE: 0.00669767221750157\n",
      "Testing Data MSE: 0.006607999549206502\n",
      "\n",
      "Training Data RMSE: 0.08183930728874463\n",
      "Testing Data RMSE: 0.08128960295884402\n",
      "\n",
      "Training Data MAE: 0.03161690582606099\n",
      "Testing Data MAE: 0.03218163747318015\n",
      "\n",
      "Training Data R2: 0.9228111637969165\n",
      "Testing Data R2: 0.9246109074311203\n",
      "\n",
      "Residual Analysis:\n"
     ]
    },
    {
     "data": {
      "image/png": "[encoded data removed]",
      "text/plain": [
       "<Figure size 1440x360 with 1 Axes>"
      ]
     },
     "metadata": {
      "needs_background": "light"
     },
     "output_type": "display_data"
    },
    {
     "data": {
      "image/png": "[encoded data removed]",
      "text/plain": [
       "<Figure size 1440x360 with 1 Axes>"
      ]
     },
     "metadata": {
      "needs_background": "light"
     },
     "output_type": "display_data"
    }
   ],
   "source": [
    "model2 = grid.best_estimator_\n",
    "model2.fit(x_train,y_train)\n",
    "Ridge_performance = model_performance(model2,model_name = model2)"
   ]
  },
  {
   "cell_type": "markdown",
   "id": "3ed46411",
   "metadata": {
    "id": "3ed46411"
   },
   "source": [
    "# 3. Lasso"
   ]
  },
  {
   "cell_type": "code",
   "execution_count": 18,
   "id": "9fc4a86c",
   "metadata": {
    "colab": {
     "base_uri": "https://localhost:8080/"
    },
    "executionInfo": {
     "elapsed": 5173,
     "status": "ok",
     "timestamp": 1661544941464,
     "user": {
      "displayName": "Digital marketing Gym",
      "userId": "02892463931383007693"
     },
     "user_tz": -60
    },
    "id": "9fc4a86c",
    "outputId": "63f60762-8f82-45e1-83e9-de210fccf045"
   },
   "outputs": [
    {
     "data": {
      "text/plain": [
       "GridSearchCV(cv=5, estimator=Lasso(),\n",
       "             param_grid={'alpha': array([0.74977842, 0.3731038 , 0.23724368, 0.14989224, 0.57601187,\n",
       "       0.02620114, 0.47730273, 0.39773624, 0.68658583, 0.80497836,\n",
       "       0.46289498, 0.28291504, 0.13761572, 0.59237387, 0.70976641,\n",
       "       0.7467658 , 0.96506277, 0.62067087, 0.11882045, 0.80949125,\n",
       "       0.28217615, 0.28925858, 0.82471587, 0.7533142 , 0.95091725,\n",
       "       0.16290521, 0.19...\n",
       "       0.74282607, 0.23764909, 0.80940618, 0.65393439, 0.74649602,\n",
       "       0.74464047, 0.2842728 , 0.87040739, 0.13267365, 0.29753203,\n",
       "       0.72079365, 0.72221666, 0.6817565 , 0.73687838, 0.71692281,\n",
       "       0.01881818, 0.20353024, 0.95737299, 0.23530634, 0.05675772,\n",
       "       0.56625681, 0.85457808, 0.20059893, 0.1936252 , 0.21765236,\n",
       "       0.30235314, 0.57342179, 0.13535129, 0.75444023, 0.91040862,\n",
       "       0.19019492, 0.65329035, 0.51894406, 0.4931334 , 0.47070433])})"
      ]
     },
     "execution_count": 18,
     "metadata": {},
     "output_type": "execute_result"
    }
   ],
   "source": [
    "param_grid = {'alpha':np.random.rand(100)}\n",
    "grid = GridSearchCV(Lasso(),param_grid = param_grid,cv=5)\n",
    "grid.fit(x,y)"
   ]
  },
  {
   "cell_type": "code",
   "execution_count": 19,
   "id": "a6f43e35",
   "metadata": {
    "colab": {
     "base_uri": "https://localhost:8080/",
     "height": 880
    },
    "executionInfo": {
     "elapsed": 1030,
     "status": "ok",
     "timestamp": 1661544942487,
     "user": {
      "displayName": "Digital marketing Gym",
      "userId": "02892463931383007693"
     },
     "user_tz": -60
    },
    "id": "a6f43e35",
    "outputId": "cb5a8ccf-b373-4f8a-fdbc-ed2f59f079ef"
   },
   "outputs": [
    {
     "name": "stdout",
     "output_type": "stream",
     "text": [
      "Model Performance for: Lasso(alpha=0.01881818345948405)\n",
      "\n",
      "Training Score: 0.8728975863724564\n",
      "Testing Score: 0.8735089946759754\n",
      "\n",
      "Training Data MSE: 0.011028671326133879\n",
      "Testing Data MSE: 0.011087180886228992\n",
      "\n",
      "Training Data RMSE: 0.10501748105022267\n",
      "Testing Data RMSE: 0.10529568313197361\n",
      "\n",
      "Training Data MAE: 0.07657804458075508\n",
      "Testing Data MAE: 0.0774089385004506\n",
      "\n",
      "Training Data R2: 0.8728975863724564\n",
      "Testing Data R2: 0.8735089946759754\n",
      "\n",
      "Residual Analysis:\n"
     ]
    },
    {
     "data": {
      "image/png": "[encoded data removed]",
      "text/plain": [
       "<Figure size 1440x360 with 1 Axes>"
      ]
     },
     "metadata": {
      "needs_background": "light"
     },
     "output_type": "display_data"
    },
    {
     "data": {
      "image/png": "[encoded data removed]",
      "text/plain": [
       "<Figure size 1440x360 with 1 Axes>"
      ]
     },
     "metadata": {
      "needs_background": "light"
     },
     "output_type": "display_data"
    }
   ],
   "source": [
    "model3 = grid.best_estimator_\n",
    "model3.fit(x_train,y_train)\n",
    "Lasso_performance = model_performance(model3,model_name = model3)"
   ]
  },
  {
   "cell_type": "markdown",
   "id": "812396a9",
   "metadata": {
    "id": "812396a9"
   },
   "source": [
    "# 4. RandomForest Regressor"
   ]
  },
  {
   "cell_type": "code",
   "execution_count": 20,
   "id": "1b622e3d",
   "metadata": {
    "colab": {
     "base_uri": "https://localhost:8080/"
    },
    "executionInfo": {
     "elapsed": 563069,
     "status": "ok",
     "timestamp": 1661544837909,
     "user": {
      "displayName": "Digital marketing Gym",
      "userId": "02892463931383007693"
     },
     "user_tz": -60
    },
    "id": "1b622e3d",
    "outputId": "c7538029-3fca-4cde-8a93-611fd85c3636"
   },
   "outputs": [
    {
     "data": {
      "text/plain": [
       "GridSearchCV(cv=4, estimator=RandomForestRegressor(),\n",
       "             param_grid={'max_depth': array([1, 2, 3, 4]),\n",
       "                         'min_samples_leaf': array([1, 2, 3, 4]),\n",
       "                         'min_samples_split': array([2, 3, 4])})"
      ]
     },
     "execution_count": 20,
     "metadata": {},
     "output_type": "execute_result"
    }
   ],
   "source": [
    "param_grid = {'max_depth':np.arange(1,5),'min_samples_split':np.arange(2,5),'min_samples_leaf':np.arange(1,5)}\n",
    "grid = GridSearchCV(RandomForestRegressor(),param_grid = param_grid,cv=4)\n",
    "grid.fit(x,y)"
   ]
  },
  {
   "cell_type": "code",
   "execution_count": 21,
   "id": "ac4eb8c9",
   "metadata": {
    "colab": {
     "base_uri": "https://localhost:8080/",
     "height": 880
    },
    "executionInfo": {
     "elapsed": 3248,
     "status": "ok",
     "timestamp": 1661544841150,
     "user": {
      "displayName": "Digital marketing Gym",
      "userId": "02892463931383007693"
     },
     "user_tz": -60
    },
    "id": "ac4eb8c9",
    "outputId": "cb1c0309-e1bb-4271-fdd2-afaf1dc05a94"
   },
   "outputs": [
    {
     "name": "stdout",
     "output_type": "stream",
     "text": [
      "Model Performance for: RandomForestRegressor(max_depth=2, min_samples_leaf=2, min_samples_split=3)\n",
      "\n",
      "Training Score: 0.8822060701646519\n",
      "Testing Score: 0.8830122138051866\n",
      "\n",
      "Training Data MSE: 0.010220974561306117\n",
      "Testing Data MSE: 0.01025420537767697\n",
      "\n",
      "Training Data RMSE: 0.10109883560806285\n",
      "Testing Data RMSE: 0.10126305040673507\n",
      "\n",
      "Training Data MAE: 0.06879863413372815\n",
      "Testing Data MAE: 0.06933052435959448\n",
      "\n",
      "Training Data R2: 0.8822060701646519\n",
      "Testing Data R2: 0.8830122138051866\n",
      "\n",
      "Residual Analysis:\n"
     ]
    },
    {
     "data": {
      "image/png": "[encoded data removed]",
      "text/plain": [
       "<Figure size 1440x360 with 1 Axes>"
      ]
     },
     "metadata": {
      "needs_background": "light"
     },
     "output_type": "display_data"
    },
    {
     "data": {
      "image/png": "[encoded data removed]",
      "text/plain": [
       "<Figure size 1440x360 with 1 Axes>"
      ]
     },
     "metadata": {
      "needs_background": "light"
     },
     "output_type": "display_data"
    }
   ],
   "source": [
    "model5 = grid.best_estimator_\n",
    "model5.fit(x_train,y_train)\n",
    "RF_performance = model_performance(model5,model_name = model5)"
   ]
  },
  {
   "cell_type": "markdown",
   "id": "065fb551",
   "metadata": {
    "id": "065fb551"
   },
   "source": [
    "# Model Performances"
   ]
  },
  {
   "cell_type": "code",
   "execution_count": 22,
   "id": "fa21ea09",
   "metadata": {
    "executionInfo": {
     "elapsed": 5,
     "status": "ok",
     "timestamp": 1661546073218,
     "user": {
      "displayName": "Digital marketing Gym",
      "userId": "02892463931383007693"
     },
     "user_tz": -60
    },
    "id": "fa21ea09"
   },
   "outputs": [],
   "source": [
    "eval_performance = [[\"Linear Regression\",LR_performance[0],LR_performance[1],LR_performance[2],LR_performance[3],LR_performance[4],LR_performance[5],LR_performance[6],LR_performance[7]],\n",
    "                     [\"Ridge\",Ridge_performance[0],Ridge_performance[1],Ridge_performance[2],Ridge_performance[3],Ridge_performance[4],Ridge_performance[5],Ridge_performance[6],Ridge_performance[7]],\n",
    "                     [\"Lasso\",Lasso_performance[0],Lasso_performance[1],Lasso_performance[2],Lasso_performance[3],Lasso_performance[4],Lasso_performance[5],Lasso_performance[6],Lasso_performance[7]],\n",
    "                     [\"Random Forest\",RF_performance[0],RF_performance[1],RF_performance[2],RF_performance[3],RF_performance[4],RF_performance[5],RF_performance[6],RF_performance[7]],\n",
    "                     ]"
   ]
  },
  {
   "cell_type": "code",
   "execution_count": 23,
   "id": "85f3f03d",
   "metadata": {
    "executionInfo": {
     "elapsed": 335,
     "status": "ok",
     "timestamp": 1661550685477,
     "user": {
      "displayName": "Digital marketing Gym",
      "userId": "02892463931383007693"
     },
     "user_tz": -60
    },
    "id": "85f3f03d"
   },
   "outputs": [],
   "source": [
    "performance = pd.DataFrame(eval_performance,columns = ['Models',\"Train Score\",\"Test Score\",\"Train MSE\",'Test MSE','Train MAE',\"Test MAE\",'Train R2',\"Test R2\"])"
   ]
  },
  {
   "cell_type": "code",
   "execution_count": 24,
   "id": "b596a38c",
   "metadata": {
    "colab": {
     "base_uri": "https://localhost:8080/",
     "height": 175
    },
    "executionInfo": {
     "elapsed": 320,
     "status": "ok",
     "timestamp": 1661550606508,
     "user": {
      "displayName": "Digital marketing Gym",
      "userId": "02892463931383007693"
     },
     "user_tz": -60
    },
    "id": "b596a38c",
    "outputId": "8fc474b7-0766-4d8c-e1a8-cd3af3acf8ee"
   },
   "outputs": [
    {
     "data": {
      "text/html": [
       "<div>\n",
       "<style scoped>\n",
       "    .dataframe tbody tr th:only-of-type {\n",
       "        vertical-align: middle;\n",
       "    }\n",
       "\n",
       "    .dataframe tbody tr th {\n",
       "        vertical-align: top;\n",
       "    }\n",
       "\n",
       "    .dataframe thead th {\n",
       "        text-align: right;\n",
       "    }\n",
       "</style>\n",
       "<table border=\"1\" class=\"dataframe\">\n",
       "  <thead>\n",
       "    <tr style=\"text-align: right;\">\n",
       "      <th></th>\n",
       "      <th>Models</th>\n",
       "      <th>Train Score</th>\n",
       "      <th>Test Score</th>\n",
       "      <th>Train MSE</th>\n",
       "      <th>Test MSE</th>\n",
       "      <th>Train MAE</th>\n",
       "      <th>Test MAE</th>\n",
       "      <th>Train R2</th>\n",
       "      <th>Test R2</th>\n",
       "    </tr>\n",
       "  </thead>\n",
       "  <tbody>\n",
       "    <tr>\n",
       "      <th>0</th>\n",
       "      <td>Linear Regression</td>\n",
       "      <td>0.922811</td>\n",
       "      <td>0.924611</td>\n",
       "      <td>0.006698</td>\n",
       "      <td>0.006608</td>\n",
       "      <td>0.031617</td>\n",
       "      <td>0.032182</td>\n",
       "      <td>0.922811</td>\n",
       "      <td>0.924611</td>\n",
       "    </tr>\n",
       "    <tr>\n",
       "      <th>1</th>\n",
       "      <td>Ridge</td>\n",
       "      <td>0.922811</td>\n",
       "      <td>0.924611</td>\n",
       "      <td>0.006698</td>\n",
       "      <td>0.006608</td>\n",
       "      <td>0.031617</td>\n",
       "      <td>0.032182</td>\n",
       "      <td>0.922811</td>\n",
       "      <td>0.924611</td>\n",
       "    </tr>\n",
       "    <tr>\n",
       "      <th>2</th>\n",
       "      <td>Lasso</td>\n",
       "      <td>0.872898</td>\n",
       "      <td>0.873509</td>\n",
       "      <td>0.011029</td>\n",
       "      <td>0.011087</td>\n",
       "      <td>0.076578</td>\n",
       "      <td>0.077409</td>\n",
       "      <td>0.872898</td>\n",
       "      <td>0.873509</td>\n",
       "    </tr>\n",
       "    <tr>\n",
       "      <th>3</th>\n",
       "      <td>Random Forest</td>\n",
       "      <td>0.882206</td>\n",
       "      <td>0.883012</td>\n",
       "      <td>0.010221</td>\n",
       "      <td>0.010254</td>\n",
       "      <td>0.068799</td>\n",
       "      <td>0.069331</td>\n",
       "      <td>0.882206</td>\n",
       "      <td>0.883012</td>\n",
       "    </tr>\n",
       "  </tbody>\n",
       "</table>\n",
       "</div>"
      ],
      "text/plain": [
       "              Models  Train Score  Test Score  Train MSE  Test MSE  Train MAE  \\\n",
       "0  Linear Regression     0.922811    0.924611   0.006698  0.006608   0.031617   \n",
       "1              Ridge     0.922811    0.924611   0.006698  0.006608   0.031617   \n",
       "2              Lasso     0.872898    0.873509   0.011029  0.011087   0.076578   \n",
       "3      Random Forest     0.882206    0.883012   0.010221  0.010254   0.068799   \n",
       "\n",
       "   Test MAE  Train R2   Test R2  \n",
       "0  0.032182  0.922811  0.924611  \n",
       "1  0.032182  0.922811  0.924611  \n",
       "2  0.077409  0.872898  0.873509  \n",
       "3  0.069331  0.882206  0.883012  "
      ]
     },
     "execution_count": 24,
     "metadata": {},
     "output_type": "execute_result"
    }
   ],
   "source": [
    "performance"
   ]
  },
  {
   "cell_type": "code",
   "execution_count": 25,
   "id": "Mho3w6uMDfp7",
   "metadata": {
    "colab": {
     "base_uri": "https://localhost:8080/",
     "height": 590
    },
    "executionInfo": {
     "elapsed": 1268,
     "status": "ok",
     "timestamp": 1661552108271,
     "user": {
      "displayName": "Digital marketing Gym",
      "userId": "02892463931383007693"
     },
     "user_tz": -60
    },
    "id": "Mho3w6uMDfp7",
    "outputId": "2aa1fa65-6a56-48ca-8f15-fd57272e2db0"
   },
   "outputs": [
    {
     "data": {
      "text/plain": [
       "<AxesSubplot:title={'center':'Training R2 v/s Testing R2'}, xlabel='Models', ylabel='R-Squared Score'>"
      ]
     },
     "execution_count": 25,
     "metadata": {},
     "output_type": "execute_result"
    },
    {
     "data": {
      "image/png": "[encoded data removed]",
      "text/plain": [
       "<Figure size 1080x504 with 4 Axes>"
      ]
     },
     "metadata": {},
     "output_type": "display_data"
    }
   ],
   "source": [
    "sb.set_style(\"dark\")\n",
    "fig, ((ax1, ax2), (ax3, ax4)) = plt.subplots(nrows=2, ncols=2, sharex=True)\n",
    "fig.suptitle('Basic Models Comparison Study', fontsize=15)\n",
    "\n",
    "performance[[\"Models\",\"Train Score\", \"Test Score\"]].plot(ax=ax1, x=\"Models\", ylabel=\"Prediction Score\", kind=\"bar\", \n",
    "                                                         title=\"Training Score v/s Testing Score\", color=['#A1C7E0', \"#F29325\"], \n",
    "                                                         figsize=(15,7), ylim=(0,1))\n",
    "\n",
    "performance[[\"Models\",\"Train MSE\", \"Test MSE\"]].plot(ax=ax2, x=\"Models\", ylabel=\"Mean Square Error\", kind=\"bar\", \n",
    "                                                     title=\"Train MSE v/s Test MSE\", color=['#fb8072', \"#8dd3c7\"],\n",
    "                                                     figsize=(15,7), ylim=(0,0.015))\n",
    "\n",
    "performance[[\"Models\",\"Train MAE\", \"Test MAE\"]].plot(ax=ax3, x=\"Models\", ylabel=\"Mean Average Error\", kind=\"bar\", \n",
    "                                                     title=\"Train MAE v/s Test MAE\", color=['#9467bd', \"#8c564b\"],\n",
    "                                                     figsize=(15,7), ylim=(0,0.1))\n",
    "\n",
    "performance[[\"Models\",\"Train R2\", \"Test R2\"]].plot(ax=ax4, x=\"Models\", ylabel=\"R-Squared Score\", kind=\"bar\", \n",
    "                                                   title=\"Training R2 v/s Testing R2\", color=['#e377c2', \"#7f7f7f\"],\n",
    "                                                     figsize=(15,7), ylim=(0,1))"
   ]
  }
 ],
 "metadata": {
  "colab": {
   "collapsed_sections": [],
   "name": "basic-models.ipynb",
   "provenance": []
  },
  "kernelspec": {
   "display_name": "Python 3 (ipykernel)",
   "language": "python",
   "name": "python3"
  },
  "language_info": {
   "codemirror_mode": {
    "name": "ipython",
    "version": 3
   },
   "file_extension": ".py",
   "mimetype": "text/x-python",
   "name": "python",
   "nbconvert_exporter": "python",
   "pygments_lexer": "ipython3",
   "version": "3.9.5"
  }
 },
 "nbformat": 4,
 "nbformat_minor": 5
}
